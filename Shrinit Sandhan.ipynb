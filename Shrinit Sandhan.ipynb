{
 "cells": [
  {
   "cell_type": "code",
   "execution_count": 1,
   "metadata": {},
   "outputs": [
    {
     "name": "stdout",
     "output_type": "stream",
     "text": [
      "Shrinit\n"
     ]
    }
   ],
   "source": [
    "print(\"Shrinit\")"
   ]
  },
  {
   "cell_type": "code",
   "execution_count": null,
   "metadata": {},
   "outputs": [],
   "source": []
  },
  {
   "cell_type": "code",
   "execution_count": 7,
   "metadata": {},
   "outputs": [
    {
     "name": "stdout",
     "output_type": "stream",
     "text": [
      "-10\n",
      "30\n",
      "50\n",
      "-10\n",
      "200\n",
      "0\n",
      "2\n"
     ]
    }
   ],
   "source": [
    "a=10\n",
    "b=20\n",
    "c=30\n",
    "\n",
    "d=a-b\n",
    "print(d)\n",
    "\n",
    "d=a+b\n",
    "print(d)\n",
    "\n",
    "d=b+c\n",
    "print(d)\n",
    "\n",
    "d=b-c\n",
    "print(d)\n",
    "\n",
    "d=a*b\n",
    "print(d)\n",
    "\n",
    "d=b%a\n",
    "print(d)\n",
    "\n",
    "d=b//a\n",
    "print(d)\n"
   ]
  },
  {
   "cell_type": "code",
   "execution_count": 8,
   "metadata": {},
   "outputs": [
    {
     "name": "stdout",
     "output_type": "stream",
     "text": [
      "Line 2 - Value of c is  -10\n",
      "Line 3 - Value of c is  200\n",
      "Line 4 - Value of c is  0.5\n",
      "Line 5 - Value of c is  10\n",
      "Line 6 - Value of c is  8\n",
      "Line 7 - Value of c is  2\n"
     ]
    }
   ],
   "source": [
    "c=a-b\n",
    "print (\"Line 2 - Value of c is \", c )\n",
    "c=a*b\n",
    "print (\"Line 3 - Value of c is \", c)\n",
    "c=a/b\n",
    "print (\"Line 4 - Value of c is \", c )\n",
    "c=a%b\n",
    "print (\"Line 5 - Value of c is \", c)\n",
    "a=2\n",
    "b=3\n",
    "c = a**b\n",
    "print (\"Line 6 - Value of c is \", c)\n",
    "a = 10\n",
    "b=5\n",
    "c = a//b\n",
    "print (\"Line 7 - Value of c is \", c)"
   ]
  },
  {
   "cell_type": "code",
   "execution_count": 9,
   "metadata": {},
   "outputs": [
    {
     "name": "stdout",
     "output_type": "stream",
     "text": [
      "False\n",
      "True\n",
      "False\n",
      "True\n"
     ]
    }
   ],
   "source": [
    "a = 10\n",
    "b = 20\n",
    "print(a==b)\n",
    "print(a<=b)\n",
    "print(a>=b)\n",
    "print(a!=b)"
   ]
  },
  {
   "cell_type": "code",
   "execution_count": 10,
   "metadata": {},
   "outputs": [
    {
     "name": "stdout",
     "output_type": "stream",
     "text": [
      "30\n",
      "10\n",
      "200\n"
     ]
    }
   ],
   "source": [
    "a+=b\n",
    "print(a)\n",
    "a-=b\n",
    "print(a)\n",
    "a*=b\n",
    "print(a)"
   ]
  },
  {
   "cell_type": "code",
   "execution_count": 11,
   "metadata": {
    "scrolled": true
   },
   "outputs": [
    {
     "name": "stdout",
     "output_type": "stream",
     "text": [
      "a= : 0b111100 b= 13 : 0b1101\n",
      "result of AND is  12 : 0b1100\n",
      "result of OR is  61 : 0b111101\n"
     ]
    }
   ],
   "source": [
    "a=60       # 60 = 0011 1100\n",
    "b=13       # 13 = 0000 1101\n",
    "print ('a=',':',bin(a),'b=',b,':',bin(b))\n",
    "c=0\n",
    "\n",
    "c=a&b;     #12 = 0000 1100\n",
    "print (\"result of AND is \", c,':',bin(c))\n",
    "\n",
    "c=a|b;     # 61 = 0011 1101\n",
    "print(\"result of OR is \", c,':',bin(c))\n",
    "\n",
    "\n"
   ]
  },
  {
   "cell_type": "code",
   "execution_count": 15,
   "metadata": {},
   "outputs": [
    {
     "name": "stdout",
     "output_type": "stream",
     "text": [
      "13\n"
     ]
    }
   ],
   "source": [
    "print(a and b)"
   ]
  },
  {
   "cell_type": "code",
   "execution_count": 16,
   "metadata": {},
   "outputs": [
    {
     "ename": "SyntaxError",
     "evalue": "invalid syntax (<ipython-input-16-f2aabb0906ec>, line 2)",
     "output_type": "error",
     "traceback": [
      "\u001b[1;36m  File \u001b[1;32m\"<ipython-input-16-f2aabb0906ec>\"\u001b[1;36m, line \u001b[1;32m2\u001b[0m\n\u001b[1;33m    if var1 != 100\u001b[0m\n\u001b[1;37m                  ^\u001b[0m\n\u001b[1;31mSyntaxError\u001b[0m\u001b[1;31m:\u001b[0m invalid syntax\n"
     ]
    }
   ],
   "source": []
  },
  {
   "cell_type": "code",
   "execution_count": 17,
   "metadata": {},
   "outputs": [
    {
     "name": "stdout",
     "output_type": "stream",
     "text": [
      "The count is: 0\n",
      "The count is: 1\n",
      "The count is: 2\n",
      "The count is: 3\n",
      "The count is: 4\n",
      "The count is: 5\n",
      "The count is: 6\n",
      "The count is: 7\n",
      "The count is: 8\n",
      "Good bye!\n"
     ]
    }
   ],
   "source": [
    "count = 0\n",
    "while (count < 9):\n",
    "    print ('The count is:', count) \n",
    "    count = count + 1\n",
    "print (\"Good bye!\")"
   ]
  },
  {
   "cell_type": "code",
   "execution_count": 3,
   "metadata": {},
   "outputs": [
    {
     "name": "stdout",
     "output_type": "stream",
     "text": [
      "55\n",
      "100\n"
     ]
    }
   ],
   "source": [
    "def fun2(a,b,c):\n",
    "    d=a+b+c\n",
    "    return d\n",
    "res1 = fun2(10,20,25)\n",
    "print(res1)\n",
    "\n",
    "res2 = fun2(20,30,50)\n",
    "print(res2)"
   ]
  },
  {
   "cell_type": "code",
   "execution_count": 7,
   "metadata": {},
   "outputs": [
    {
     "name": "stdout",
     "output_type": "stream",
     "text": [
      "70\n",
      "Shrinit\n"
     ]
    }
   ],
   "source": [
    "class abc:\n",
    "    n=\"Shrinit\"\n",
    "    def func1(self,a,b):\n",
    "        fc=a+b\n",
    "        return fc\n",
    "obj1 = abc()\n",
    "print(obj1.func1(40,30))\n",
    "print(obj1.n)"
   ]
  },
  {
   "cell_type": "code",
   "execution_count": 18,
   "metadata": {},
   "outputs": [
    {
     "name": "stdout",
     "output_type": "stream",
     "text": [
      "Shrinit\n",
      "100\n",
      "Sandhan\n",
      "1000\n"
     ]
    }
   ],
   "source": [
    "class employee():\n",
    "    empsalary = 0\n",
    "    empname = \"\"\n",
    "    \n",
    "    def get(self,empname,empsalary):\n",
    "        print(empname)\n",
    "        print(empsalary)\n",
    "        \n",
    "obj1 = employee()\n",
    "obj1.get(\"Shrinit\",100)\n",
    "obj1.get(\"Sandhan\",1000)\n",
    "        "
   ]
  },
  {
   "cell_type": "code",
   "execution_count": 10,
   "metadata": {},
   "outputs": [
    {
     "name": "stdout",
     "output_type": "stream",
     "text": [
      "Class A Run\n",
      "Class B Run\n",
      "Class C Run\n",
      "Class D Run\n",
      "Class B Function Fun2 Run\n",
      "Class A Function Fun1 Run\n",
      "Class A Function Fun1 Run\n",
      "Class B Function Fun2 Run\n",
      "Class C Function Fun3 Run\n",
      "Class A Function Fun1 Run\n",
      "Class B Function Fun2 Run\n",
      "Class C Function Fun3 Run\n",
      "Class D Function Fun4 Run\n"
     ]
    }
   ],
   "source": [
    "# MULTILEVEL INHERETENCE\n",
    "class A:\n",
    "    def __init__ (self):\n",
    "        print(\"Class A Run\")\n",
    "        \n",
    "    def fun1 (self):\n",
    "        print(\"Class A Function Fun1 Run\")\n",
    "        \n",
    "class B(A):\n",
    "    def __init__ (self):\n",
    "        print(\"Class B Run\")\n",
    "        \n",
    "    def fun2 (self):\n",
    "        print(\"Class B Function Fun2 Run\")\n",
    "        \n",
    "class C(B):\n",
    "    def __init__ (self):\n",
    "        print(\"Class C Run\")\n",
    "        \n",
    "    def fun3 (self):\n",
    "        print(\"Class C Function Fun3 Run\")\n",
    "        \n",
    "class D(C):\n",
    "    def __init__ (self):\n",
    "        print(\"Class D Run\")\n",
    "        \n",
    "    def fun4 (self):\n",
    "        print(\"Class D Function Fun4 Run\")\n",
    "        \n",
    "obj1 = A()\n",
    "obj2 = B()\n",
    "obj3 = C()\n",
    "obj4 = D()\n",
    "obj2.fun2()\n",
    "obj2.fun1()\n",
    "obj3.fun1()\n",
    "obj3.fun2()\n",
    "obj3.fun3()\n",
    "obj4.fun1()\n",
    "obj4.fun2()\n",
    "obj4.fun3()\n",
    "obj4.fun4()"
   ]
  },
  {
   "cell_type": "code",
   "execution_count": 11,
   "metadata": {},
   "outputs": [
    {
     "name": "stdout",
     "output_type": "stream",
     "text": [
      "Aaqib\n",
      "I'm Shrinit Sandhan\n",
      "I'm Sachin Pandit\n",
      "I'm Aaqib Mohmmad\n"
     ]
    }
   ],
   "source": [
    "# MULTIPLE INHERETENCE\n",
    "class A:\n",
    "    def __init__ (self):\n",
    "        print(\"Shrinit\")\n",
    "        \n",
    "    def fun1 (self):\n",
    "        print(\"I'm Shrinit Sandhan\")\n",
    "        \n",
    "class B:\n",
    "    def __init__ (self):\n",
    "        print(\"Sachin\")\n",
    "        \n",
    "    def fun2 (self):\n",
    "        print(\"I'm Sachin Pandit\")\n",
    "        \n",
    "class C(A,B):\n",
    "    def __init__ (self):\n",
    "        print(\"Aaqib\")\n",
    "        \n",
    "    def fun3 (self):\n",
    "        print(\"I'm Aaqib Mohmmad\")\n",
    "        \n",
    "obj3 = C()\n",
    "obj3.fun1()\n",
    "obj3.fun2()\n",
    "obj3.fun3()\n",
    "        "
   ]
  },
  {
   "cell_type": "code",
   "execution_count": 17,
   "metadata": {},
   "outputs": [
    {
     "name": "stdout",
     "output_type": "stream",
     "text": [
      "Prem\n",
      "I'm Shrinit Sandhan\n",
      "I'm Sachin Pandit\n",
      "I'm Aaqib Mohmmad\n",
      "I'm Prem Patil\n"
     ]
    }
   ],
   "source": [
    "# HYBRID INHERETENCE\n",
    "class A:\n",
    "    def __init__ (self):\n",
    "        print(\"Shrinit\")\n",
    "        \n",
    "    def fun1 (self):\n",
    "        print(\"I'm Shrinit Sandhan\")\n",
    "        \n",
    "class B(A):\n",
    "    def __init__ (self):\n",
    "        print(\"Sachin\")\n",
    "        \n",
    "    def fun2 (self):\n",
    "        print(\"I'm Sachin Pandit\")\n",
    "        \n",
    "class C:\n",
    "    def __init__ (self):\n",
    "        print(\"Aaqib\")\n",
    "        \n",
    "    def fun3 (self):\n",
    "        print(\"I'm Aaqib Mohmmad\")\n",
    "\n",
    "class D(B,C):\n",
    "    def __init__ (self):\n",
    "        print(\"Prem\")\n",
    "        \n",
    "    def fun4 (self):\n",
    "        print(\"I'm Prem Patil\")\n",
    "\n",
    "obj4 = D()\n",
    "obj4.fun1()\n",
    "obj4.fun2()\n",
    "obj4.fun3()\n",
    "obj4.fun4()"
   ]
  }
 ],
 "metadata": {
  "kernelspec": {
   "display_name": "Python 3",
   "language": "python",
   "name": "python3"
  },
  "language_info": {
   "codemirror_mode": {
    "name": "ipython",
    "version": 3
   },
   "file_extension": ".py",
   "mimetype": "text/x-python",
   "name": "python",
   "nbconvert_exporter": "python",
   "pygments_lexer": "ipython3",
   "version": "3.7.0"
  }
 },
 "nbformat": 4,
 "nbformat_minor": 2
}
