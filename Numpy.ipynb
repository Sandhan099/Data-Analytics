{
 "cells": [
  {
   "cell_type": "code",
   "execution_count": 6,
   "metadata": {},
   "outputs": [
    {
     "name": "stdout",
     "output_type": "stream",
     "text": [
      "[1 2 3 4]\n"
     ]
    }
   ],
   "source": [
    "import numpy as np\n",
    "\n",
    "list1 = [11,22,33,44]\n",
    "a=np.array([1,2,3,4])\n",
    "print(a)"
   ]
  },
  {
   "cell_type": "code",
   "execution_count": 7,
   "metadata": {},
   "outputs": [
    {
     "name": "stdout",
     "output_type": "stream",
     "text": [
      "[11 22 33 44]\n"
     ]
    }
   ],
   "source": [
    "import numpy as np\n",
    "\n",
    "list1 = [11,22,33,44]\n",
    "a=np.array(list1)\n",
    "print(a)"
   ]
  },
  {
   "cell_type": "code",
   "execution_count": 8,
   "metadata": {},
   "outputs": [
    {
     "name": "stdout",
     "output_type": "stream",
     "text": [
      "[1 2 3 4 5]\n",
      "<class 'numpy.ndarray'>\n"
     ]
    }
   ],
   "source": [
    "import numpy as np\n",
    "arr = np.array([1,2,3,4,5])\n",
    "print(arr)\n",
    "print(type(arr))"
   ]
  },
  {
   "cell_type": "code",
   "execution_count": 24,
   "metadata": {},
   "outputs": [
    {
     "name": "stdout",
     "output_type": "stream",
     "text": [
      "42\n",
      "0\n",
      "<class 'numpy.ndarray'>\n"
     ]
    }
   ],
   "source": [
    "import numpy as np \n",
    "\n",
    "a = np.array(42) #0D\n",
    "print(a)\n",
    "print(a.ndim)\n",
    "print(type(a))\n"
   ]
  },
  {
   "cell_type": "code",
   "execution_count": 27,
   "metadata": {},
   "outputs": [
    {
     "name": "stdout",
     "output_type": "stream",
     "text": [
      "[1 2 3 4 5]\n",
      "1\n",
      "<class 'numpy.ndarray'>\n"
     ]
    }
   ],
   "source": [
    "import numpy as np \n",
    "\n",
    "b = np.array([1,2,3,4,5])  #1D\n",
    "print(b)\n",
    "print(b.ndim)\n",
    "print(type(b))\n"
   ]
  },
  {
   "cell_type": "code",
   "execution_count": 26,
   "metadata": {},
   "outputs": [
    {
     "name": "stdout",
     "output_type": "stream",
     "text": [
      "[[1 2 3]\n",
      " [5 6 7]]\n",
      "2\n",
      "<class 'numpy.ndarray'>\n"
     ]
    }
   ],
   "source": [
    "import numpy as np \n",
    "\n",
    "c = np.array([[1,2,3],[5,6,7]])  #2D\n",
    "print(c)\n",
    "print(c.ndim)\n",
    "print(type(c))\n"
   ]
  },
  {
   "cell_type": "code",
   "execution_count": 25,
   "metadata": {},
   "outputs": [
    {
     "name": "stdout",
     "output_type": "stream",
     "text": [
      "[[[ 1  2  3]\n",
      "  [ 5  6  7]]\n",
      "\n",
      " [[11 22 33]\n",
      "  [24 56 78]]]\n",
      "3\n",
      "<class 'numpy.ndarray'>\n"
     ]
    }
   ],
   "source": [
    "import numpy as np \n",
    "\n",
    "d = np.array([[[1,2,3],[5,6,7]],[[11,22,33],[24,56,78]]]) #3D\n",
    "print(d)\n",
    "print(d.ndim)\n",
    "print(type(d))\n"
   ]
  },
  {
   "cell_type": "code",
   "execution_count": 18,
   "metadata": {},
   "outputs": [
    {
     "name": "stdout",
     "output_type": "stream",
     "text": [
      "42\n",
      "[1 2 3 4 5]\n",
      "[[1 2 3]\n",
      " [5 6 7]]\n",
      "[[[ 1  2  3]\n",
      "  [ 5  6  7]]\n",
      "\n",
      " [[11 22 33]\n",
      "  [24 56 78]]]\n",
      "0\n",
      "1\n",
      "2\n",
      "3\n"
     ]
    }
   ],
   "source": [
    "import numpy as np \n",
    "\n",
    "a = np.array(42) #0D\n",
    "b = np.array([1,2,3,4,5])  #1D\n",
    "c = np.array([[1,2,3],[5,6,7]])  #2D\n",
    "d = np.array([[[1,2,3],[5,6,7]],[[11,22,33],[24,56,78]]]) #3D\n",
    "\n",
    "print(a)\n",
    "print(b)\n",
    "print(c)\n",
    "print(d)\n",
    "\n",
    "print(a.ndim)\n",
    "print(b.ndim)\n",
    "print(c.ndim)\n",
    "print(d.ndim)\n",
    "\n"
   ]
  },
  {
   "cell_type": "code",
   "execution_count": 30,
   "metadata": {},
   "outputs": [
    {
     "name": "stdout",
     "output_type": "stream",
     "text": [
      "1\n",
      "2\n",
      "3\n",
      "4\n"
     ]
    }
   ],
   "source": [
    "import numpy as np \n",
    "arr = np.array([1,2,3,4])\n",
    "print(arr[0])\n",
    "print(arr[1])\n",
    "print(arr[2])\n",
    "print(arr[3])\n"
   ]
  },
  {
   "cell_type": "code",
   "execution_count": 33,
   "metadata": {},
   "outputs": [
    {
     "name": "stdout",
     "output_type": "stream",
     "text": [
      "3\n",
      "5\n",
      "7\n",
      "6\n"
     ]
    }
   ],
   "source": [
    "import numpy as np \n",
    "arr = np.array([1,2,3,4])\n",
    "print(arr[0] + arr[1] )\n",
    "print(arr[1] + arr[2] )\n",
    "print(arr[2] + arr[3] )\n",
    "print(arr[3] + arr[1] )"
   ]
  },
  {
   "cell_type": "code",
   "execution_count": 37,
   "metadata": {},
   "outputs": [
    {
     "name": "stdout",
     "output_type": "stream",
     "text": [
      "2nd element of 1st row :  2\n",
      "2nd element of 2nd row :  6\n",
      "Last element of 1st row :  3\n",
      "Last element of 2nd row :  7\n"
     ]
    }
   ],
   "source": [
    "import numpy as np \n",
    "c = np.array([[1,2,3],[5,6,7]])  #2D\n",
    "print(\"2nd element of 1st row : \",c[0,1])\n",
    "print(\"2nd element of 2nd row : \",c[1,1])\n",
    "print(\"Last element of 1st row : \",c[0,2])\n",
    "print(\"Last element of 2nd row : \",c[1,2])"
   ]
  },
  {
   "cell_type": "code",
   "execution_count": 39,
   "metadata": {},
   "outputs": [
    {
     "name": "stdout",
     "output_type": "stream",
     "text": [
      "12\n",
      "18\n",
      "21\n",
      "42\n"
     ]
    }
   ],
   "source": [
    "import numpy as np \n",
    "c = np.array([[1,2,3],[5,6,7]])  #2D\n",
    "print(c[1,1] * c[0,1])\n",
    "print(c[1,1] * c[0,2])\n",
    "print(c[0,2] * c[1,2])\n",
    "print(c[1,2] * c[1,1])\n"
   ]
  },
  {
   "cell_type": "code",
   "execution_count": 56,
   "metadata": {},
   "outputs": [
    {
     "name": "stdout",
     "output_type": "stream",
     "text": [
      "1\n",
      "2\n",
      "3\n",
      "5\n",
      "6\n",
      "7\n",
      "11\n",
      "22\n",
      "33\n",
      "24\n",
      "56\n",
      "78\n",
      "134\n",
      "39\n",
      "81\n",
      "1.3928571428571428\n",
      "0.18181818181818182\n",
      "26.0\n",
      "121\n"
     ]
    }
   ],
   "source": [
    "import numpy as np \n",
    "d = np.array([[[1,2,3],[5,6,7]],[[11,22,33],[24,56,78]]]) #3D\n",
    "print(d[0,0,0])\n",
    "print(d[0,0,1])\n",
    "print(d[0,0,2])\n",
    "print(d[0,1,0])\n",
    "print(d[0,1,1])\n",
    "print(d[0,1,2])\n",
    "print(d[1,0,0])\n",
    "print(d[1,0,1])\n",
    "print(d[1,0,2])\n",
    "print(d[1,1,0])\n",
    "print(d[1,1,1])\n",
    "print(d[1,1,2])\n",
    "\n",
    "\n",
    "print(d[1,1,2] + d[1,1,1])\n",
    "print(d[0,1,1] + d[1,0,2])\n",
    "print(d[1,1,2] + d[0,0,2])\n",
    "\n",
    "print(d[1,1,2] / d[1,1,1])\n",
    "print(d[0,1,1] / d[1,0,2])\n",
    "print(d[1,1,2] / d[0,0,2])\n",
    "\n",
    "res = d[0,0,2] + d[0,1,2] + d[1,0,2] + d[1,1,2] \n",
    "print(res)"
   ]
  },
  {
   "cell_type": "code",
   "execution_count": null,
   "metadata": {},
   "outputs": [],
   "source": []
  }
 ],
 "metadata": {
  "kernelspec": {
   "display_name": "Python 3",
   "language": "python",
   "name": "python3"
  },
  "language_info": {
   "codemirror_mode": {
    "name": "ipython",
    "version": 3
   },
   "file_extension": ".py",
   "mimetype": "text/x-python",
   "name": "python",
   "nbconvert_exporter": "python",
   "pygments_lexer": "ipython3",
   "version": "3.7.0"
  }
 },
 "nbformat": 4,
 "nbformat_minor": 2
}
