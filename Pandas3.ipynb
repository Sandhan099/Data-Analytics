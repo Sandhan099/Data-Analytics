{
 "cells": [
  {
   "cell_type": "markdown",
   "metadata": {},
   "source": [
    "# Pandas Data Frame"
   ]
  },
  {
   "cell_type": "markdown",
   "metadata": {},
   "source": [
    "# Data Frame Rows & Columns Representation "
   ]
  },
  {
   "cell_type": "code",
   "execution_count": 3,
   "metadata": {},
   "outputs": [
    {
     "name": "stdout",
     "output_type": "stream",
     "text": [
      "    Name  Age\n",
      "0   Alex   10\n",
      "1    Bob   12\n",
      "2  sagar   14\n"
     ]
    }
   ],
   "source": [
    "import pandas as pd \n",
    "data = [[\"Alex\",10],[\"Bob\",12],[\"sagar\",14]]\n",
    "df = pd.DataFrame(data,columns=[\"Name\",\"Age\"])\n",
    "print(df)"
   ]
  },
  {
   "cell_type": "code",
   "execution_count": 4,
   "metadata": {},
   "outputs": [
    {
     "name": "stdout",
     "output_type": "stream",
     "text": [
      "       0     1\n",
      "0   Alex  10.0\n",
      "1    Bob  12.0\n",
      "2  sagar  14.0\n"
     ]
    }
   ],
   "source": [
    "import pandas as pd \n",
    "data = [['Alex',10],[\"Bob\",12],[\"sagar\",14]]\n",
    "df = pd.DataFrame(data,dtype=float)\n",
    "print(df)"
   ]
  },
  {
   "cell_type": "code",
   "execution_count": 5,
   "metadata": {},
   "outputs": [
    {
     "name": "stdout",
     "output_type": "stream",
     "text": [
      "      Name  Age\n",
      "0      Tom   12\n",
      "1  Shrinit   14\n",
      "2    Sagar   16\n",
      "3   Sachin   18\n"
     ]
    }
   ],
   "source": [
    "import pandas as pd \n",
    "data = {'Name':['Tom','Shrinit','Sagar','Sachin'],'Age':[12,14,16,18]}\n",
    "df = pd.DataFrame(data)\n",
    "print(df)"
   ]
  },
  {
   "cell_type": "code",
   "execution_count": 6,
   "metadata": {},
   "outputs": [
    {
     "name": "stdout",
     "output_type": "stream",
     "text": [
      "          Name  Age\n",
      "rank1      Tom   12\n",
      "rank2  Shrinit   14\n",
      "rank3    Sagar   16\n",
      "rank4   Sachin   18\n"
     ]
    }
   ],
   "source": [
    "import pandas as pd \n",
    "data = {'Name':['Tom','Shrinit','Sagar','Sachin'],'Age':[12,14,16,18]}\n",
    "df = pd.DataFrame(data,index=['rank1','rank2','rank3','rank4',])\n",
    "print(df)"
   ]
  },
  {
   "cell_type": "code",
   "execution_count": 8,
   "metadata": {},
   "outputs": [
    {
     "name": "stdout",
     "output_type": "stream",
     "text": [
      "     1    2    3    4    a    b    c    d\n",
      "0    a    b    c    d  NaN  NaN  NaN  NaN\n",
      "1  NaN  NaN  NaN  NaN  1.0  2.0  3.0  1.0\n"
     ]
    }
   ],
   "source": [
    "import pandas as pd \n",
    "data = [{1:'a', 2:'b',3:'c',4:'d'},{'a':1,'b':2,'c':3,'d':1}]\n",
    "df = pd.DataFrame(data)\n",
    "print(df)"
   ]
  },
  {
   "cell_type": "code",
   "execution_count": 9,
   "metadata": {},
   "outputs": [
    {
     "name": "stdout",
     "output_type": "stream",
     "text": [
      "         1    2    3    4    a    b    c    d\n",
      "rank1    a    b    c    d  NaN  NaN  NaN  NaN\n",
      "rank2  NaN  NaN  NaN  NaN  1.0  2.0  3.0  1.0\n"
     ]
    }
   ],
   "source": [
    "import pandas as pd \n",
    "data = [{1:'a', 2:'b',3:'c',4:'d'},{'a':1,'b':2,'c':3,'d':1}]\n",
    "df = pd.DataFrame(data,index = ['rank1','rank2'])\n",
    "print(df)"
   ]
  },
  {
   "cell_type": "code",
   "execution_count": 22,
   "metadata": {},
   "outputs": [
    {
     "name": "stdout",
     "output_type": "stream",
     "text": [
      "         a    d\n",
      "rank1  NaN  NaN\n",
      "rank2  1.0  1.0\n",
      "\n",
      "\n",
      "         2    3\n",
      "rank3    b    c\n",
      "rank4  NaN  NaN\n"
     ]
    }
   ],
   "source": [
    "import pandas as pd \n",
    "data = [{1:'a', 2:'b',3:'c',4:'d'},{'a':1,'b':2,'c':3,'d':1}]\n",
    "df1 = pd.DataFrame(data,index = ['rank1','rank2'],columns=['a','d'])\n",
    "df2 = pd.DataFrame(data,index = ['rank3','rank4'],columns=[2,3])\n",
    "print(df1)\n",
    "print('\\n')\n",
    "print(df2)"
   ]
  },
  {
   "cell_type": "code",
   "execution_count": 17,
   "metadata": {},
   "outputs": [
    {
     "name": "stdout",
     "output_type": "stream",
     "text": [
      "   one  two\n",
      "a  1.0    1\n",
      "b  2.0    2\n",
      "c  3.0    3\n",
      "d  NaN    4\n"
     ]
    }
   ],
   "source": [
    "import pandas as pd\n",
    "d = {'one':pd.Series([1,2,3],index=['a','b','c']),'two':pd.Series([1,2,3,4], index=['a','b','c','d'])}\n",
    "df = pd.DataFrame(d)\n",
    "print(df)"
   ]
  },
  {
   "cell_type": "code",
   "execution_count": 20,
   "metadata": {},
   "outputs": [
    {
     "name": "stdout",
     "output_type": "stream",
     "text": [
      "   one  two\n",
      "a  1.0    1\n",
      "b  2.0    2\n",
      "c  3.0    3\n",
      "d  NaN    4\n",
      "\n",
      "\n",
      "a    1.0\n",
      "b    2.0\n",
      "c    3.0\n",
      "d    NaN\n",
      "Name: one, dtype: float64\n"
     ]
    }
   ],
   "source": [
    "import pandas as pd\n",
    "d = {'one':pd.Series([1,2,3],index=['a','b','c']),'two':pd.Series([1,2,3,4], index=['a','b','c','d'])}\n",
    "df = pd.DataFrame(d)\n",
    "print(df)\n",
    "print('\\n')\n",
    "print(df['one'])"
   ]
  },
  {
   "cell_type": "markdown",
   "metadata": {},
   "source": [
    "# Addition of two columns"
   ]
  },
  {
   "cell_type": "code",
   "execution_count": 23,
   "metadata": {},
   "outputs": [
    {
     "name": "stdout",
     "output_type": "stream",
     "text": [
      "Adding a new column by passing as a series: \n",
      "   one  two  three\n",
      "a  1.0    1   10.0\n",
      "b  2.0    2   20.0\n",
      "c  3.0    3   30.0\n",
      "d  NaN    4    NaN\n",
      "\n",
      "\n",
      "Adding a new column using the existing columns in dataframe: \n",
      "   one  two  three  four\n",
      "a  1.0    1   10.0  11.0\n",
      "b  2.0    2   20.0  22.0\n",
      "c  3.0    3   30.0  33.0\n",
      "d  NaN    4    NaN   NaN\n"
     ]
    }
   ],
   "source": [
    "import pandas as pd\n",
    "d = {'one':pd.Series([1,2,3],index=['a','b','c']),'two':pd.Series([1,2,3,4], index=['a','b','c','d'])}\n",
    "df = pd.DataFrame(d)\n",
    "print(\"Adding a new column by passing as a series: \")\n",
    "df['three'] = pd.Series([10,20,30],index=['a','b','c'])\n",
    "print(df)\n",
    "print('\\n')\n",
    "print(\"Adding a new column using the existing columns in dataframe: \")\n",
    "df['four'] = df['one'] + df['three']\n",
    "print(df)"
   ]
  },
  {
   "cell_type": "markdown",
   "metadata": {},
   "source": [
    "# DEL & POP Function in Pandas "
   ]
  },
  {
   "cell_type": "code",
   "execution_count": 27,
   "metadata": {},
   "outputs": [
    {
     "name": "stdout",
     "output_type": "stream",
     "text": [
      "Our Dataframe is: \n",
      "   one  two  three\n",
      "a  1.0    1   10.0\n",
      "b  2.0    2   20.0\n",
      "c  3.0    3   30.0\n",
      "d  NaN    4    NaN\n",
      "\n",
      "\n",
      "Deleting the first column using DEL function: \n",
      "   two  three\n",
      "a    1   10.0\n",
      "b    2   20.0\n",
      "c    3   30.0\n",
      "d    4    NaN\n",
      "\n",
      "\n",
      "Deleting the another column using POP function: \n",
      "   three\n",
      "a   10.0\n",
      "b   20.0\n",
      "c   30.0\n",
      "d    NaN\n"
     ]
    }
   ],
   "source": [
    "import pandas as pd\n",
    "d = {'one':pd.Series([1,2,3],index=['a','b','c']),'two':pd.Series([1,2,3,4],index=['a','b','c','d']),\n",
    "     'three': pd.Series([10,20,30],index=['a','b','c'])}\n",
    "df = pd.DataFrame(d)\n",
    "print(\"Our Dataframe is: \")\n",
    "print(df)\n",
    "print('\\n')\n",
    "print(\"Deleting the first column using DEL function: \")\n",
    "df['three'] = pd.Series([10,20,30],index=['a','b','c'])\n",
    "del df['one']\n",
    "print(df)\n",
    "print('\\n')\n",
    "print(\"Deleting the another column using POP function: \")\n",
    "df.pop('two')\n",
    "print(df)"
   ]
  },
  {
   "cell_type": "markdown",
   "metadata": {},
   "source": [
    "# iloc Function"
   ]
  },
  {
   "cell_type": "code",
   "execution_count": 28,
   "metadata": {
    "scrolled": true
   },
   "outputs": [
    {
     "name": "stdout",
     "output_type": "stream",
     "text": [
      "one    2.0\n",
      "two    2.0\n",
      "Name: b, dtype: float64\n"
     ]
    }
   ],
   "source": [
    "import pandas as pd\n",
    "d = {'one':pd.Series([1,2,3],index=['a','b','c']),'two':pd.Series([1,2,3,4], index=['a','b','c','d'])}\n",
    "df = pd.DataFrame(d)\n",
    "print(df.loc['b'])\n",
    "#rows can be selected by passing interger location to an iloc function "
   ]
  },
  {
   "cell_type": "markdown",
   "metadata": {},
   "source": [
    "# Multiple Rows "
   ]
  },
  {
   "cell_type": "code",
   "execution_count": 30,
   "metadata": {
    "scrolled": false
   },
   "outputs": [
    {
     "name": "stdout",
     "output_type": "stream",
     "text": [
      "   one  two\n",
      "c  3.0    3\n",
      "d  NaN    4\n"
     ]
    }
   ],
   "source": [
    "import pandas as pd\n",
    "d = {'one':pd.Series([1,2,3],index=['a','b','c']),'two':pd.Series([1,2,3,4], index=['a','b','c','d'])}\n",
    "df = pd.DataFrame(d)\n",
    "print(df[2:4])\n",
    "#Multiple rows can be selected using ':' operator"
   ]
  },
  {
   "cell_type": "markdown",
   "metadata": {},
   "source": [
    "# Drop & Append Command in pandas "
   ]
  },
  {
   "cell_type": "code",
   "execution_count": 37,
   "metadata": {},
   "outputs": [
    {
     "name": "stdout",
     "output_type": "stream",
     "text": [
      "   a  b\n",
      "0  1  2\n",
      "1  3  4\n",
      "0  5  6\n",
      "1  7  8\n",
      "\n",
      "\n",
      "Drop rows with label 0\n",
      "   a  b\n",
      "1  3  4\n",
      "1  7  8\n"
     ]
    }
   ],
   "source": [
    "import pandas as pd \n",
    "df = pd.DataFrame([[1,2],[3,4]],columns=['a','b'])\n",
    "df2 = pd.DataFrame([[5,6],[7,8]],columns=['a','b'])\n",
    "df = df.append(df2)\n",
    "print(df)\n",
    "print(\"\\n\")\n",
    "print(\"Drop rows with label 0\")\n",
    "#Drop rows with label 0\n",
    "df = df.drop(0)\n",
    "print(df)"
   ]
  }
 ],
 "metadata": {
  "kernelspec": {
   "display_name": "Python 3",
   "language": "python",
   "name": "python3"
  },
  "language_info": {
   "codemirror_mode": {
    "name": "ipython",
    "version": 3
   },
   "file_extension": ".py",
   "mimetype": "text/x-python",
   "name": "python",
   "nbconvert_exporter": "python",
   "pygments_lexer": "ipython3",
   "version": "3.7.0"
  }
 },
 "nbformat": 4,
 "nbformat_minor": 2
}
